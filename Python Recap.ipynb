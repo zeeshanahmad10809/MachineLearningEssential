{
 "cells": [
  {
   "cell_type": "markdown",
   "metadata": {},
   "source": [
    "## Variables Declaration"
   ]
  },
  {
   "cell_type": "code",
   "execution_count": 1,
   "metadata": {},
   "outputs": [],
   "source": [
    "# Declare multiple variables\n",
    "a, b, c = 10, 20, 30"
   ]
  },
  {
   "cell_type": "code",
   "execution_count": 2,
   "metadata": {},
   "outputs": [],
   "source": [
    "# unpack a collection\n",
    "a, b, c = [10, 20, 30]"
   ]
  },
  {
   "cell_type": "code",
   "execution_count": 3,
   "metadata": {},
   "outputs": [
    {
     "name": "stdout",
     "output_type": "stream",
     "text": [
      "100\n"
     ]
    }
   ],
   "source": [
    "# global variables are that are created\n",
    "# outside a function, however, we can\n",
    "# create one inside a function using\n",
    "# 'global' keyword\n",
    "\n",
    "def func():\n",
    "    global x\n",
    "    x = 100\n",
    "\n",
    "func()\n",
    "print(x)"
   ]
  },
  {
   "cell_type": "code",
   "execution_count": 4,
   "metadata": {},
   "outputs": [],
   "source": [
    "# Datatypes in Python\n",
    "# 1- str\n",
    "# 2- int, float, complex\n",
    "# 3- list, tuple, range\n",
    "# 4- dict\n",
    "# 5- set\n",
    "# 6- frozenset\n",
    "# 7- bool\n",
    "# 8- bytes, bytearray"
   ]
  },
  {
   "cell_type": "code",
   "execution_count": 5,
   "metadata": {},
   "outputs": [],
   "source": [
    "# How to check Python datatype?\n",
    "# Answer: type(var_name)"
   ]
  },
  {
   "cell_type": "code",
   "execution_count": 6,
   "metadata": {},
   "outputs": [],
   "source": [
    "# Setting the datatype\n",
    "s1 = 'Hello Python'\n",
    "a, b, c = 20, 0.35, 1j\n",
    "l1, t1, r1 = [1, 2, 3], (10, 20, 30), range(5)\n",
    "d1 = {'a': 1, 'b': 2, 'c': 3}\n",
    "set1 = {1, 2, 3}\n",
    "fset1 = frozenset({1, 2, 3})\n",
    "b1 = True"
   ]
  },
  {
   "cell_type": "code",
   "execution_count": 7,
   "metadata": {},
   "outputs": [],
   "source": [
    "# Specifying the datatype\n",
    "s1 = str('Hello, Python')\n",
    "a, b, c = int(20), float(0.35), complex(1j)\n",
    "l1, t1, r1 = list([1, 2, 3]), tuple((10, 20, 30)), range(5)\n",
    "d1 = dict({'a': 1, 'b': 2, 'c': 3})\n",
    "set1 = set({1, 2, 3})\n",
    "fset1 = frozenset({1, 2, 3})\n",
    "b1 = bool(True)"
   ]
  },
  {
   "cell_type": "markdown",
   "metadata": {},
   "source": [
    "## Type Casting"
   ]
  },
  {
   "cell_type": "code",
   "execution_count": 8,
   "metadata": {},
   "outputs": [
    {
     "name": "stdout",
     "output_type": "stream",
     "text": [
      "1 2 10\n"
     ]
    }
   ],
   "source": [
    "# To int\n",
    "a = int(1)\n",
    "b = int(2.8)\n",
    "c = int('10')\n",
    "print(a, b, c, end='\\n')"
   ]
  },
  {
   "cell_type": "code",
   "execution_count": 9,
   "metadata": {},
   "outputs": [
    {
     "name": "stdout",
     "output_type": "stream",
     "text": [
      "1.0 2.8 10.9\n"
     ]
    }
   ],
   "source": [
    "# To float\n",
    "a = float(1)\n",
    "b = float(2.8)\n",
    "c = float('10.9')\n",
    "print(a, b, c, end='\\n')"
   ]
  },
  {
   "cell_type": "code",
   "execution_count": 10,
   "metadata": {},
   "outputs": [
    {
     "name": "stdout",
     "output_type": "stream",
     "text": [
      "1 2.8 10\n"
     ]
    }
   ],
   "source": [
    "# To str\n",
    "a = str(1)\n",
    "b = str(2.8)\n",
    "c = str('10')\n",
    "print(a, b, c, end='\\n')"
   ]
  },
  {
   "cell_type": "markdown",
   "metadata": {},
   "source": [
    "## Python String"
   ]
  },
  {
   "cell_type": "code",
   "execution_count": 11,
   "metadata": {},
   "outputs": [
    {
     "name": "stdout",
     "output_type": "stream",
     "text": [
      "30\n"
     ]
    }
   ],
   "source": [
    "a = \"Hello, we are going to Lahore.\"\n",
    "print(len(a))"
   ]
  },
  {
   "cell_type": "code",
   "execution_count": 13,
   "metadata": {},
   "outputs": [
    {
     "name": "stdout",
     "output_type": "stream",
     "text": [
      "True\n",
      "False\n"
     ]
    }
   ],
   "source": [
    "print(\"we\" in a)\n",
    "print(\"to\" not in a)"
   ]
  },
  {
   "cell_type": "code",
   "execution_count": 17,
   "metadata": {},
   "outputs": [
    {
     "name": "stdout",
     "output_type": "stream",
     "text": [
      "\n",
      "We are not free\n",
      "today so we're\n",
      "not going\n",
      "\n"
     ]
    }
   ],
   "source": [
    "# Multi-line strings\n",
    "a = \\\n",
    "\"\"\"\n",
    "We are not free\n",
    "today so we're\n",
    "not going\n",
    "\"\"\"\n",
    "print(a)"
   ]
  },
  {
   "cell_type": "code",
   "execution_count": 21,
   "metadata": {},
   "outputs": [
    {
     "name": "stdout",
     "output_type": "stream",
     "text": [
      "Hello\n"
     ]
    }
   ],
   "source": [
    "# string slicing\n",
    "a = \"Hello, we are going to Lahore.\"\n",
    "print(a[:5])"
   ]
  },
  {
   "cell_type": "code",
   "execution_count": 22,
   "metadata": {},
   "outputs": [
    {
     "name": "stdout",
     "output_type": "stream",
     "text": [
      "Lahore\n"
     ]
    }
   ],
   "source": [
    "print(a[-7:-1])"
   ]
  },
  {
   "cell_type": "code",
   "execution_count": 28,
   "metadata": {},
   "outputs": [
    {
     "name": "stdout",
     "output_type": "stream",
     "text": [
      "HELLO, WE ARE GOING TO LAHORE.\n",
      "hello, we are going to lahore.\n",
      "True\n",
      "True\n",
      "Hello, we are going to Lahore.\n",
      "Hello, we are going to Lahore.\n",
      "Hello, we are going to Lahore.\n",
      "Hello, we are going to Islamabad.\n",
      "['Hello,', 'we', 'are', 'going', 'to', 'Lahore.']\n"
     ]
    }
   ],
   "source": [
    "# uppercase\n",
    "print(a.upper())\n",
    "# lowercase\n",
    "print(a.lower())\n",
    "# islower\n",
    "print('hello'.islower())\n",
    "# isupper\n",
    "print(\"HELLO\".isupper())\n",
    "# remove whitespaces\n",
    "print(a.strip())\n",
    "# remove left whitespaces\n",
    "print(a.lstrip())\n",
    "# remove right whitespaces\n",
    "print(a.rstrip())\n",
    "# replace\n",
    "print(a.replace(\"Lahore\", \"Islamabad\"))\n",
    "# split\n",
    "print(a.split(\" \"))"
   ]
  },
  {
   "cell_type": "code",
   "execution_count": 29,
   "metadata": {},
   "outputs": [
    {
     "name": "stdout",
     "output_type": "stream",
     "text": [
      "True\n",
      "True\n",
      "True\n",
      "False\n",
      "False\n",
      "True\n",
      "2\n",
      "Hello, World!\n"
     ]
    }
   ],
   "source": [
    "# startswith\n",
    "print(a.startswith(\"Hello\"))\n",
    "# endswith\n",
    "print(a.endswith(\"Lahore.\"))\n",
    "# isalnum\n",
    "print(\"James Bond 007\".isalnum())\n",
    "# isalpha\n",
    "print(\"Go, 1 2 3\".isalpha())\n",
    "# isspace\n",
    "print(\" \".isspace())\n",
    "# count -> counts number of times a values appears\n",
    "print(\"Here we go again and again!\".count(\"again\"))\n",
    "# swapcase\n",
    "print(\"hELLO, wORLD!\".swapcase())"
   ]
  },
  {
   "cell_type": "code",
   "execution_count": 33,
   "metadata": {},
   "outputs": [
    {
     "name": "stdout",
     "output_type": "stream",
     "text": [
      "11\n",
      "21\n",
      "11\n",
      "21\n",
      "True\n",
      "False\n",
      "True\n",
      "False\n",
      "00010\n"
     ]
    }
   ],
   "source": [
    "# index\n",
    "print(\"Here we go again and again!\".index(\"again\"))\n",
    "# rindex -> right most index\n",
    "print(\"Here we go again and again!\".rindex(\"again\"))\n",
    "# find\n",
    "print(\"Here we go again and again!\".find(\"again\"))\n",
    "# rfind\n",
    "print(\"Here we go again and again!\".rfind(\"again\"))\n",
    "# isdecimal\n",
    "print(\"100\".isdecimal())\n",
    "print(\"1.34\".isdecimal())\n",
    "# isdigit\n",
    "print(\"10\".isdigit())\n",
    "print(\"10.2\".isdigit())\n",
    "# isnumeric\n",
    "print(\"100\".isnumeric())\n",
    "# zfill -> add zeros to begining\n",
    "print('10'.zfill(5))"
   ]
  },
  {
   "cell_type": "code",
   "execution_count": 38,
   "metadata": {},
   "outputs": [
    {
     "name": "stdout",
     "output_type": "stream",
     "text": [
      "Hello, boy\n",
      "b'Encoding to ascii'\n",
      "value: 73.23\n",
      "Hello, Cohn\n"
     ]
    }
   ],
   "source": [
    "# capitalize\n",
    "print('hello, boy'.capitalize())\n",
    "# encode\n",
    "print('Encoding to ascii'.encode(encoding='ascii', errors='replace'))\n",
    "# format\n",
    "print(\"value: {:.2f}\".format(73.2343))\n",
    "# translate\n",
    "temp = \"Hello, John\"\n",
    "print(temp.translate(temp.maketrans(\"J\", \"C\")))"
   ]
  },
  {
   "cell_type": "code",
   "execution_count": 39,
   "metadata": {},
   "outputs": [
    {
     "name": "stdout",
     "output_type": "stream",
     "text": [
      "Hello, World\n",
      "Hello, World\n"
     ]
    }
   ],
   "source": [
    "# Don't concatenate strings using '+'\n",
    "a = 'Hello, '\n",
    "b = 'World'\n",
    "c = a + b\n",
    "print(c)\n",
    "# Use join as it is efficient\n",
    "c = ''.join([a, b])\n",
    "print(c)"
   ]
  },
  {
   "cell_type": "markdown",
   "metadata": {},
   "source": [
    "## Booleans"
   ]
  },
  {
   "cell_type": "code",
   "execution_count": 40,
   "metadata": {},
   "outputs": [
    {
     "name": "stdout",
     "output_type": "stream",
     "text": [
      "True\n",
      "True\n",
      "True\n",
      "True\n",
      "False\n"
     ]
    }
   ],
   "source": [
    "print(10 == 10)\n",
    "print(10 <= 10)\n",
    "print(10 >= 10)\n",
    "print(9 < 10)\n",
    "print(10 > 12)"
   ]
  },
  {
   "cell_type": "code",
   "execution_count": 42,
   "metadata": {},
   "outputs": [
    {
     "name": "stdout",
     "output_type": "stream",
     "text": [
      "False\n",
      "True\n",
      "True\n",
      "True\n"
     ]
    }
   ],
   "source": [
    "print(bool(0))\n",
    "print(bool(1))\n",
    "print(bool(2))\n",
    "print(bool(1000))"
   ]
  },
  {
   "cell_type": "code",
   "execution_count": 43,
   "metadata": {},
   "outputs": [
    {
     "name": "stdout",
     "output_type": "stream",
     "text": [
      "True\n",
      "True\n",
      "True\n",
      "True\n",
      "True\n"
     ]
    }
   ],
   "source": [
    "# True values\n",
    "print(bool({1, 2, 3}))\n",
    "print(bool({'a': 1, 'b': 2}))\n",
    "print(bool((10, 20, 30)))\n",
    "print(bool([1, 2, 3, 4, 5]))\n",
    "print(bool(\"Hello\"))"
   ]
  },
  {
   "cell_type": "code",
   "execution_count": 44,
   "metadata": {},
   "outputs": [
    {
     "name": "stdout",
     "output_type": "stream",
     "text": [
      "False\n",
      "False\n",
      "False\n",
      "False\n",
      "False\n"
     ]
    }
   ],
   "source": [
    "# False values\n",
    "print(bool({}))\n",
    "print(bool(()))\n",
    "print(bool([]))\n",
    "print(bool(\"\"))\n",
    "print(bool(None))"
   ]
  },
  {
   "cell_type": "markdown",
   "metadata": {},
   "source": [
    "## Python Operators"
   ]
  },
  {
   "cell_type": "code",
   "execution_count": 45,
   "metadata": {},
   "outputs": [],
   "source": [
    "# Python Arithmetric Operators\n",
    "# +, -, *, /, %, **, //\n",
    "# // is known as floor division"
   ]
  },
  {
   "cell_type": "code",
   "execution_count": 46,
   "metadata": {},
   "outputs": [],
   "source": [
    "# Python Assignment Operators\n",
    "# =, +=, -=, *=, /=, %=, **=, //="
   ]
  },
  {
   "cell_type": "code",
   "execution_count": 47,
   "metadata": {},
   "outputs": [],
   "source": [
    "# Python Comparison Operators\n",
    "# ==, <=, >=, >, <, !="
   ]
  },
  {
   "cell_type": "code",
   "execution_count": 48,
   "metadata": {},
   "outputs": [],
   "source": [
    "# Python Logical Operators\n",
    "# and, or, not"
   ]
  },
  {
   "cell_type": "code",
   "execution_count": 49,
   "metadata": {},
   "outputs": [],
   "source": [
    "# Python Identity Operators\n",
    "# is, is not"
   ]
  },
  {
   "cell_type": "code",
   "execution_count": 50,
   "metadata": {},
   "outputs": [],
   "source": [
    "# Python Membership Operators\n",
    "# in, not in"
   ]
  },
  {
   "cell_type": "code",
   "execution_count": 54,
   "metadata": {},
   "outputs": [],
   "source": [
    "# Operators\tMeaning\n",
    "# 1- ()\tParentheses\n",
    "# 2- **\tExponent\n",
    "# 3- +x, -x, ~x\tUnary plus, Unary minus, Bitwise NOT\n",
    "# 4- *, /, //, %\tMultiplication, Division, Floor division, Modulus\n",
    "# 5- +, -\tAddition, Subtraction\n",
    "# 6- <<, >>\tBitwise shift operators\n",
    "# 7- &\tBitwise AND\n",
    "# 8- ^\tBitwise XOR\n",
    "# 9- |\tBitwise OR\n",
    "# 10- ==, !=, >, >=, <, <=, is, is not, in, not in\tComparisons, Identity, Membership operators\n",
    "# 11- not\tLogical NOT\n",
    "# 12- and\tLogical AND\n",
    "# 13- or\tLogical OR"
   ]
  },
  {
   "cell_type": "markdown",
   "metadata": {},
   "source": [
    "## List"
   ]
  },
  {
   "cell_type": "code",
   "execution_count": 98,
   "metadata": {},
   "outputs": [],
   "source": [
    "a = [1, 2, 3]\n",
    "b = [\n",
    "    1, 2, 3,\n",
    "    4, 5, 6,\n",
    "    7, 8, 9\n",
    "]"
   ]
  },
  {
   "cell_type": "code",
   "execution_count": 99,
   "metadata": {},
   "outputs": [],
   "source": [
    "c = [True, 'Alpha', 100]"
   ]
  },
  {
   "cell_type": "code",
   "execution_count": 100,
   "metadata": {},
   "outputs": [
    {
     "name": "stdout",
     "output_type": "stream",
     "text": [
      "[3, 4]\n",
      "[]\n",
      "[6, 7, 8]\n",
      "[]\n",
      "[6, 7, 8, 9]\n"
     ]
    }
   ],
   "source": [
    "# Indexing\n",
    "print(b[2:4])\n",
    "print(b[-1:-4])\n",
    "print(b[-4:-1])\n",
    "print(b[-4:0])\n",
    "print(b[-4:])"
   ]
  },
  {
   "cell_type": "code",
   "execution_count": 101,
   "metadata": {},
   "outputs": [
    {
     "name": "stdout",
     "output_type": "stream",
     "text": [
      "1 2 3 4 5 6 7 8 9 \n",
      "1 2 3 4 5 6 7 8 9 "
     ]
    }
   ],
   "source": [
    "# for loop\n",
    "for x in b:\n",
    "    print(x, end=\" \")\n",
    "print(\"\\n\", end=\"\")\n",
    "    \n",
    "# while loop\n",
    "list_len = len(b)\n",
    "i = 0\n",
    "\n",
    "while i < list_len:\n",
    "    print(b[i], end=\" \")\n",
    "    i += 1 "
   ]
  },
  {
   "cell_type": "code",
   "execution_count": 102,
   "metadata": {},
   "outputs": [
    {
     "name": "stdout",
     "output_type": "stream",
     "text": [
      "[1, 20, 3, 4, 5, 6, 7, 8, 9]\n",
      "[1, 200, 300, 4, 5, 6, 7, 8, 9]\n"
     ]
    }
   ],
   "source": [
    "# Change list items\n",
    "b[1] = 20\n",
    "print(b)\n",
    "b[1:3] = [200, 300]\n",
    "print(b)"
   ]
  },
  {
   "cell_type": "code",
   "execution_count": 103,
   "metadata": {},
   "outputs": [
    {
     "name": "stdout",
     "output_type": "stream",
     "text": [
      "[1, 20, 200, 300, 4, 5, 6, 7, 8, 9]\n",
      "[1, 20, 200, 300, 4, 5, 6, 7, 8, 9, 10]\n",
      "[1, 2, 3, True, 'Alpha', 100]\n"
     ]
    }
   ],
   "source": [
    "# Insert at location\n",
    "b.insert(1, 20)\n",
    "print(b)\n",
    "# Append values\n",
    "b.append(10)\n",
    "print(b)\n",
    "# Merge two lists\n",
    "a.extend(c)\n",
    "print(a)\n",
    "# this operator method is not recommended\n",
    "# as it is overloaded operator that can\n",
    "# make code slower\n",
    "a = a + c"
   ]
  },
  {
   "cell_type": "code",
   "execution_count": 104,
   "metadata": {},
   "outputs": [
    {
     "name": "stdout",
     "output_type": "stream",
     "text": [
      "[2, 3, True, 'Alpha', 100]\n",
      "[2, 3, True, 'Alpha']\n",
      "[2, 3, True]\n",
      "[2, 3]\n",
      "[]\n"
     ]
    }
   ],
   "source": [
    "# remove by value\n",
    "a.remove(True)\n",
    "print(a)\n",
    "# remove last value\n",
    "a.pop()\n",
    "print(a)\n",
    "# remove at specific location\n",
    "a.pop(3)\n",
    "print(a)\n",
    "del a[2]\n",
    "print(a)\n",
    "# delete a list\n",
    "temp = [1, 2, 3]\n",
    "temp.clear()\n",
    "print(temp)"
   ]
  },
  {
   "cell_type": "code",
   "execution_count": 109,
   "metadata": {},
   "outputs": [
    {
     "name": "stdout",
     "output_type": "stream",
     "text": [
      "[0, 2, 4, 6, 8, 10, 12, 14, 16, 18, 20, 22, 24, 26, 28, 30, 32, 34, 36, 38, 40, 42, 44, 46, 48]\n",
      "[0, 1, 0, 3, 0, 5, 0, 7, 0, 9, 0, 11, 0, 13, 0, 15, 0, 17, 0, 19, 0, 21, 0, 23, 0, 25, 0, 27, 0, 29, 0, 31, 0, 33, 0, 35, 0, 37, 0, 39, 0, 41, 0, 43, 0, 45, 0, 47, 0, 49]\n"
     ]
    }
   ],
   "source": [
    "# List Comprehension\n",
    "# if condition\n",
    "a = list(range(50))\n",
    "b = [value for value in a if value%2 == 0]\n",
    "print(b)\n",
    "# if else\n",
    "b = [value if value%2 != 0 else 0 for value in a]\n",
    "print(b)"
   ]
  },
  {
   "cell_type": "code",
   "execution_count": 113,
   "metadata": {},
   "outputs": [
    {
     "name": "stdout",
     "output_type": "stream",
     "text": [
      "[10, 2, 8, 9, 4, 1, 12, 11, 16, 13, 9, 7]\n",
      "[1, 2, 4, 7, 8, 9, 9, 10, 11, 12, 13, 16]\n",
      "[16, 13, 12, 11, 10, 9, 9, 8, 7, 4, 2, 1]\n",
      "[16, 9, 9, 10, 4, 2, 8, 11, 1, 7, 12, 13]\n"
     ]
    }
   ],
   "source": [
    "# Sort a list\n",
    "# .sort() is inplace\n",
    "from math import cos\n",
    "a = [10, 2, 8, 9, 4, 1, 12, 11, 16, 13, 9, 7]\n",
    "print(a)\n",
    "# forward sort\n",
    "a.sort()\n",
    "print(a)\n",
    "# reverse sort\n",
    "a.sort(reverse=True)\n",
    "print(a)\n",
    "# sort with custom key\n",
    "a.sort(key=lambda x: cos(x))\n",
    "print(a)"
   ]
  },
  {
   "cell_type": "code",
   "execution_count": 114,
   "metadata": {},
   "outputs": [
    {
     "name": "stdout",
     "output_type": "stream",
     "text": [
      "[[1, 4, 2], [2, 10, 5], [3, 5, 6]]\n",
      "[[1, 4, 2], [3, 5, 6], [2, 10, 5]]\n"
     ]
    }
   ],
   "source": [
    "# Sort with nested list\n",
    "a = [[1, 4, 2], [3, 5, 6], [2, 10, 5]]\n",
    "a.sort(key=lambda x: x[0])\n",
    "print(a)\n",
    "a = [[1, 4, 2], [3, 5, 6], [2, 10, 5]]\n",
    "a.sort(key=lambda x: sum(x))\n",
    "print(a)"
   ]
  },
  {
   "cell_type": "code",
   "execution_count": 115,
   "metadata": {},
   "outputs": [
    {
     "name": "stdout",
     "output_type": "stream",
     "text": [
      "[3, 10, 1]\n"
     ]
    }
   ],
   "source": [
    "# reverse a list\n",
    "a = [1, 10, 3]\n",
    "a.reverse()\n",
    "print(a)"
   ]
  },
  {
   "cell_type": "code",
   "execution_count": 116,
   "metadata": {},
   "outputs": [
    {
     "name": "stdout",
     "output_type": "stream",
     "text": [
      "139988190378896 139988190378896\n",
      "139988190378896 139988189825056\n"
     ]
    }
   ],
   "source": [
    "# Copy a list\n",
    "l1 = [1, 2, 3]\n",
    "# it just point to other list\n",
    "l2 = l1\n",
    "print(id(l1), id(l2), sep=' ')\n",
    "# it will create new list with duplicate\n",
    "# values..\n",
    "l2 = l1.copy()\n",
    "print(id(l1), id(l2), sep=' ')"
   ]
  },
  {
   "cell_type": "code",
   "execution_count": 119,
   "metadata": {},
   "outputs": [
    {
     "name": "stdout",
     "output_type": "stream",
     "text": [
      "0\n",
      "1\n"
     ]
    }
   ],
   "source": [
    "# count #times a value appeared\n",
    "print(l1.count(0))\n",
    "# return index of value\n",
    "print(l1.index(2))"
   ]
  },
  {
   "cell_type": "code",
   "execution_count": 120,
   "metadata": {},
   "outputs": [
    {
     "name": "stdout",
     "output_type": "stream",
     "text": [
      "[(1, 10, 100), (2, 20, 200), (3, 30, 300), (4, 40, 400), (5, 50, 500)]\n"
     ]
    }
   ],
   "source": [
    "# Using zip with lists\n",
    "l1 = [1, 2, 3, 4, 5]\n",
    "l2 = [10, 20, 30, 40, 50]\n",
    "l3 = [100, 200, 300, 400, 500]\n",
    "merged_l = list(zip(l1, l2, l3))\n",
    "print(merged_l)"
   ]
  },
  {
   "cell_type": "code",
   "execution_count": 125,
   "metadata": {},
   "outputs": [
    {
     "name": "stdout",
     "output_type": "stream",
     "text": [
      "[1000, 2000, 3000, 4000, 5000]\n",
      "[11, 22, 33, 44, 55]\n",
      "[100, 200, 300, 400, 500]\n"
     ]
    }
   ],
   "source": [
    "# Using map with lists\n",
    "l1 = [1, 2, 3, 4, 5]\n",
    "l2 = [10, 20, 30, 40, 50]\n",
    "l3 = [100, 200, 300, 400, 500]\n",
    "mapped_l = list(map(lambda x: x * 1000, l1))\n",
    "print(mapped_l)\n",
    "mapped_l = list(map(lambda x, y: x + y, l1, l2))\n",
    "print(mapped_l)\n",
    "# get max or min of multiple lists\n",
    "# across indices..\n",
    "mapped_l = list(map(lambda x, y, z: max(x, y, z), l1, l2, l3))\n",
    "print(mapped_l)"
   ]
  },
  {
   "cell_type": "code",
   "execution_count": 127,
   "metadata": {},
   "outputs": [
    {
     "name": "stdout",
     "output_type": "stream",
     "text": [
      "[2, 4]\n"
     ]
    }
   ],
   "source": [
    "# Using filter with lists\n",
    "l1 = [1, 2, 3, 4, 5]\n",
    "filtered_l = list(filter(lambda x: 1 if x%2 == 0 else 0, l1))\n",
    "print(filtered_l)"
   ]
  },
  {
   "cell_type": "markdown",
   "metadata": {},
   "source": [
    "## Tuple"
   ]
  },
  {
   "cell_type": "code",
   "execution_count": 133,
   "metadata": {},
   "outputs": [
    {
     "name": "stdout",
     "output_type": "stream",
     "text": [
      "<class 'tuple'>\n",
      "('One', 'Two', 'Three')\n",
      "<class 'tuple'>\n",
      "('Hello',)\n",
      "<class 'str'>\n",
      "World\n"
     ]
    }
   ],
   "source": [
    "# Creating tuple\n",
    "t1 = (\"One\", \"Two\", \"Three\")\n",
    "print(type(t1))\n",
    "print(t1)\n",
    "t2 = (\"Hello\",)\n",
    "print(type(t2))\n",
    "print(t2)\n",
    "# This one is not a tuple\n",
    "t3 = (\"World\")\n",
    "print(type(t3))\n",
    "print(t3)"
   ]
  },
  {
   "cell_type": "code",
   "execution_count": 135,
   "metadata": {},
   "outputs": [
    {
     "name": "stdout",
     "output_type": "stream",
     "text": [
      "(5, 6, 7, 8, 9)\n"
     ]
    }
   ],
   "source": [
    "# Indexing\n",
    "# Indexing in tuples is same as in lists.\n",
    "t1 = tuple(range(10))\n",
    "print(t1[5:])"
   ]
  },
  {
   "cell_type": "code",
   "execution_count": 139,
   "metadata": {},
   "outputs": [
    {
     "name": "stdout",
     "output_type": "stream",
     "text": [
      "(0, 1, 2, 3, 4, 5, 6, 7, 8, 9)\n"
     ]
    }
   ],
   "source": [
    "# append or remove items\n",
    "# don't have append or remove function\n",
    "# neither it support del with t1[index]\n",
    "# To append or delete convert it to list first.\n",
    "print(t1)"
   ]
  },
  {
   "cell_type": "code",
   "execution_count": 143,
   "metadata": {},
   "outputs": [
    {
     "name": "stdout",
     "output_type": "stream",
     "text": [
      "0\n",
      "[1, 2, 3, 4, 5, 6, 7, 8]\n",
      "9\n",
      "\n",
      "1\n",
      "[2, 3, 4]\n",
      "5\n"
     ]
    }
   ],
   "source": [
    "# Unpacking tuple\n",
    "a, *b, c = t1\n",
    "print(a)\n",
    "print(b)\n",
    "print(c, end='\\n\\n')\n",
    "# Unpacking list\n",
    "a, *b, c = [1, 2, 3, 4, 5]\n",
    "print(a)\n",
    "print(b)\n",
    "print(c)"
   ]
  },
  {
   "cell_type": "code",
   "execution_count": 144,
   "metadata": {},
   "outputs": [],
   "source": [
    "# for loop and while loop\n",
    "# are same as for lists."
   ]
  },
  {
   "cell_type": "code",
   "execution_count": 145,
   "metadata": {},
   "outputs": [
    {
     "name": "stdout",
     "output_type": "stream",
     "text": [
      "(1, 2, 3, 4, 5, 6)\n"
     ]
    }
   ],
   "source": [
    "# Merge tuples\n",
    "a = (1, 2, 3)\n",
    "b = (4, 5, 6)\n",
    "c = a + b\n",
    "print(c)"
   ]
  },
  {
   "cell_type": "code",
   "execution_count": 146,
   "metadata": {},
   "outputs": [
    {
     "name": "stdout",
     "output_type": "stream",
     "text": [
      "1\n",
      "4\n"
     ]
    }
   ],
   "source": [
    "# it have only two functions\n",
    "# 1- count\n",
    "# 2- index\n",
    "print(c.count(5))\n",
    "print(c.index(5))"
   ]
  },
  {
   "cell_type": "code",
   "execution_count": 181,
   "metadata": {},
   "outputs": [
    {
     "name": "stdout",
     "output_type": "stream",
     "text": [
      "((0, 5), (1, 6), (2, 7), (3, 8), (4, 9))\n"
     ]
    }
   ],
   "source": [
    "# zip, map, filter work same way as for lists..\n",
    "# Using zip\n",
    "a = tuple(range(0, 5))\n",
    "b = tuple(range(5, 10))\n",
    "c = tuple(zip(a, b))\n",
    "print(c)"
   ]
  },
  {
   "cell_type": "code",
   "execution_count": 189,
   "metadata": {},
   "outputs": [
    {
     "name": "stdout",
     "output_type": "stream",
     "text": [
      "(1000, 2000, 3000, 4000, 5000)\n",
      "(11, 22, 33, 44, 55)\n",
      "(100, 200, 300, 400, 500)\n"
     ]
    }
   ],
   "source": [
    "# Using map with tuples\n",
    "t1 = (1, 2, 3, 4, 5)\n",
    "t2 = (10, 20, 30, 40, 50)\n",
    "t3 = (100, 200, 300, 400, 500)\n",
    "mapped_t = tuple(map(lambda x: x * 1000, t1))\n",
    "print(mapped_t)\n",
    "mapped_t = tuple(map(lambda x, y: x + y, t1, t2))\n",
    "print(mapped_t)\n",
    "# get max or min of multiple lists\n",
    "# across indices..\n",
    "mapped_t = tuple(map(lambda x, y, z: max(x, y, z), t1, t2, t3))\n",
    "print(mapped_t)"
   ]
  },
  {
   "cell_type": "code",
   "execution_count": 190,
   "metadata": {},
   "outputs": [
    {
     "name": "stdout",
     "output_type": "stream",
     "text": [
      "(2, 4)\n"
     ]
    }
   ],
   "source": [
    "# Using filter with tuples\n",
    "t1 = (1, 2, 3, 4, 5)\n",
    "filtered_t = tuple(filter(lambda x: 1 if x%2 == 0 else 0, t1))\n",
    "print(filtered_t)"
   ]
  },
  {
   "cell_type": "markdown",
   "metadata": {},
   "source": [
    "## Set"
   ]
  },
  {
   "cell_type": "code",
   "execution_count": 167,
   "metadata": {},
   "outputs": [
    {
     "name": "stdout",
     "output_type": "stream",
     "text": [
      "<class 'set'> {'alpha', 'beta', 'gamma'}\n",
      "<class 'set'> {True, 10, 'Two'}\n",
      "<class 'set'> {1, 'Two'}\n",
      "<class 'set'> {False, True}\n",
      "<class 'set'> {0, 1, 2, 3, 4} length: 5\n"
     ]
    }
   ],
   "source": [
    "# Declaring Sets\n",
    "s1 = {'alpha', 'beta', 'gamma'}\n",
    "print(type(s1), s1, sep=' ')\n",
    "s2 = {10, True, 'Two'}\n",
    "print(type(s2), s2, sep=' ')\n",
    "# It will save only True or 1\n",
    "s2 = {1, True, 'Two'}\n",
    "print(type(s2), s2, sep=' ')\n",
    "s3 = {True, False}\n",
    "print(type(s3), s3, sep=' ')\n",
    "l1 = list(range(5))\n",
    "s4 = set(l1)\n",
    "print(type(s4), s4, f\"length: {len(s4)}\", sep=' ')"
   ]
  },
  {
   "cell_type": "code",
   "execution_count": 168,
   "metadata": {},
   "outputs": [
    {
     "name": "stdout",
     "output_type": "stream",
     "text": [
      "True\n",
      "True\n"
     ]
    }
   ],
   "source": [
    "# Don't support indexing\n",
    "# Membership operators can be used only.\n",
    "print(4 in s4)\n",
    "print(40 not in s4)"
   ]
  },
  {
   "cell_type": "code",
   "execution_count": 169,
   "metadata": {},
   "outputs": [
    {
     "name": "stdout",
     "output_type": "stream",
     "text": [
      "0 1 2 3 4 "
     ]
    }
   ],
   "source": [
    "# Supports only for loop as with\n",
    "# while loop index need to referred.\n",
    "for value in s4:\n",
    "    print(value, end=' ')"
   ]
  },
  {
   "cell_type": "code",
   "execution_count": 170,
   "metadata": {},
   "outputs": [
    {
     "name": "stdout",
     "output_type": "stream",
     "text": [
      "{0, 1, 2, 3, 4, 5}\n",
      "{0, 1, 2, 3, 4, 5, 10}\n"
     ]
    }
   ],
   "source": [
    "# Add items\n",
    "# Using 'add' function\n",
    "s4.add(5)\n",
    "print(s4)\n",
    "# Using 'update' function\n",
    "# It can be used to add values from iterable\n",
    "s4.update([2, 5, 10])\n",
    "print(s4)"
   ]
  },
  {
   "cell_type": "code",
   "execution_count": 171,
   "metadata": {},
   "outputs": [
    {
     "name": "stdout",
     "output_type": "stream",
     "text": [
      "{0, 1, 2, 3, 4, 5}\n",
      "{1, 2, 3, 4, 5}\n",
      "{2, 3, 4, 5}\n",
      "{1, 2, 3}\n",
      "set()\n"
     ]
    },
    {
     "ename": "NameError",
     "evalue": "name 'temp_set' is not defined",
     "output_type": "error",
     "traceback": [
      "\u001b[0;31m---------------------------------------------------------------------------\u001b[0m",
      "\u001b[0;31mNameError\u001b[0m                                 Traceback (most recent call last)",
      "\u001b[0;32m<ipython-input-171-93e806cb368b>\u001b[0m in \u001b[0;36m<module>\u001b[0;34m\u001b[0m\n\u001b[1;32m     18\u001b[0m \u001b[0mprint\u001b[0m\u001b[0;34m(\u001b[0m\u001b[0mtemp_set\u001b[0m\u001b[0;34m)\u001b[0m\u001b[0;34m\u001b[0m\u001b[0;34m\u001b[0m\u001b[0m\n\u001b[1;32m     19\u001b[0m \u001b[0;32mdel\u001b[0m \u001b[0mtemp_set\u001b[0m\u001b[0;34m\u001b[0m\u001b[0;34m\u001b[0m\u001b[0m\n\u001b[0;32m---> 20\u001b[0;31m \u001b[0mprint\u001b[0m\u001b[0;34m(\u001b[0m\u001b[0mtemp_set\u001b[0m\u001b[0;34m)\u001b[0m\u001b[0;34m\u001b[0m\u001b[0;34m\u001b[0m\u001b[0m\n\u001b[0m",
      "\u001b[0;31mNameError\u001b[0m: name 'temp_set' is not defined"
     ]
    }
   ],
   "source": [
    "# Remove items\n",
    "# Using 'remove' function\n",
    "# It'll raise an error of item don't exist in set.\n",
    "s4.remove(10)\n",
    "print(s4)\n",
    "# Using 'discard' function\n",
    "# It'll remove item if exist and ignore if not.\n",
    "s4.discard(10)\n",
    "s4.discard(0)\n",
    "print(s4)\n",
    "# 'pop' will remove the last element\n",
    "s4.pop()\n",
    "print(s4)\n",
    "# Using 'clear' function\n",
    "temp_set = {1, 2, 3}\n",
    "print(temp_set)\n",
    "temp_set.clear()\n",
    "print(temp_set)\n",
    "del temp_set\n",
    "print(temp_set)"
   ]
  },
  {
   "cell_type": "code",
   "execution_count": 172,
   "metadata": {},
   "outputs": [
    {
     "name": "stdout",
     "output_type": "stream",
     "text": [
      "{0, 1, 2, 3, 4, 5}\n",
      "{0, 1, 2, 3, 4, 5}\n"
     ]
    }
   ],
   "source": [
    "# Join sets\n",
    "# Using 'update' to join two sets (union)\n",
    "# it inplace updates the same set\n",
    "s1 = {0, 1, 2, 3, 4}\n",
    "s2 = {2, 3, 4, 5}\n",
    "s1.update(s2)\n",
    "print(s1)\n",
    "# Using 'union' takes union and return new set.\n",
    "s1 = {0, 1, 2, 3, 4}\n",
    "s2 = {2, 3, 4, 5}\n",
    "s3 = s1.union(s2)\n",
    "print(s3)"
   ]
  },
  {
   "cell_type": "code",
   "execution_count": 173,
   "metadata": {},
   "outputs": [
    {
     "name": "stdout",
     "output_type": "stream",
     "text": [
      "{2, 3, 4}\n"
     ]
    }
   ],
   "source": [
    "# 'intersection_update' takes inplace intersection\n",
    "s1 = {0, 1, 2, 3, 4}\n",
    "s2 = {2, 3, 4, 5}\n",
    "s1.intersection_update(s1)\n",
    "# 'intersection' returns new set after intersection\n",
    "s1 = {0, 1, 2, 3, 4}\n",
    "s2 = {2, 3, 4, 5}\n",
    "s3 = s1.intersection(s2)\n",
    "print(s3)"
   ]
  },
  {
   "cell_type": "code",
   "execution_count": 174,
   "metadata": {},
   "outputs": [
    {
     "name": "stdout",
     "output_type": "stream",
     "text": [
      "{0, 1, 5}\n",
      "{0, 1, 5}\n"
     ]
    }
   ],
   "source": [
    "# 'symmetric_difference_update' inplace symmetric difference\n",
    "# It take out elements that are not common i.e: U - Intersection\n",
    "s1 = {0, 1, 2, 3, 4}\n",
    "s2 = {2, 3, 4, 5}\n",
    "s1.symmetric_difference_update(s2)\n",
    "print(s1)\n",
    "s1 = {0, 1, 2, 3, 4}\n",
    "s2 = {2, 3, 4, 5}\n",
    "s3 = s1.symmetric_difference(s2)\n",
    "print(s3)"
   ]
  },
  {
   "cell_type": "code",
   "execution_count": 175,
   "metadata": {},
   "outputs": [],
   "source": [
    "# More functions\n",
    "# 1- isdisjoint\n",
    "# 2- issubset\n",
    "# 3- issuperset"
   ]
  },
  {
   "cell_type": "code",
   "execution_count": 184,
   "metadata": {},
   "outputs": [
    {
     "name": "stdout",
     "output_type": "stream",
     "text": [
      "{(1, 2), (5, 6), (4, 5), (2, 3), (3, 4)}\n"
     ]
    }
   ],
   "source": [
    "# zip, map, filter work same way as for lists..\n",
    "# Using zip\n",
    "a = {1, 2, 3, 4, 5}\n",
    "b = {2, 3, 4, 5, 6}\n",
    "c = set(zip(a, b))\n",
    "print(c)"
   ]
  },
  {
   "cell_type": "code",
   "execution_count": 187,
   "metadata": {},
   "outputs": [
    {
     "name": "stdout",
     "output_type": "stream",
     "text": [
      "{4000, 1000, 5000, 2000, 3000}\n",
      "{33, 11, 44, 22, 55}\n",
      "{100, 200, 300, 400, 500}\n"
     ]
    }
   ],
   "source": [
    "# Using map with sets\n",
    "s1 = (1, 2, 3, 4, 5)\n",
    "s2 = (10, 20, 30, 40, 50)\n",
    "s3 = (100, 200, 300, 400, 500)\n",
    "mapped_s = set(map(lambda x: x * 1000, s1))\n",
    "print(mapped_s)\n",
    "mapped_s = set(map(lambda x, y: x + y, s1, s2))\n",
    "print(mapped_s)\n",
    "# get max or min of multiple lists\n",
    "# across indices..\n",
    "mapped_s = set(map(lambda x, y, z: max(x, y, z), s1, s2, s3))\n",
    "print(mapped_s)"
   ]
  },
  {
   "cell_type": "code",
   "execution_count": 188,
   "metadata": {},
   "outputs": [
    {
     "name": "stdout",
     "output_type": "stream",
     "text": [
      "{2, 4}\n"
     ]
    }
   ],
   "source": [
    "# Using filter with sets\n",
    "s1 = {1, 2, 3, 4, 5}\n",
    "filtered_s = set(filter(lambda x: 1 if x%2 == 0 else 0, s1))\n",
    "print(filtered_s)"
   ]
  },
  {
   "cell_type": "markdown",
   "metadata": {},
   "source": [
    "## Dictionary"
   ]
  },
  {
   "cell_type": "code",
   "execution_count": 177,
   "metadata": {},
   "outputs": [
    {
     "name": "stdout",
     "output_type": "stream",
     "text": [
      "{'a': 1, 'b': 2, 'c': 3}\n",
      "{'one': 1, 'two': 2, 'three': 3}\n"
     ]
    }
   ],
   "source": [
    "d1 = {\n",
    "    'a': 1,\n",
    "    'b': 2,\n",
    "    'c': 3,\n",
    "}\n",
    "print(d1)\n",
    "\n",
    "d2 = {\n",
    "    'one': 1,\n",
    "    'two': 2,\n",
    "    'three': 3,\n",
    "}\n",
    "print(d2)"
   ]
  },
  {
   "cell_type": "code",
   "execution_count": 178,
   "metadata": {},
   "outputs": [
    {
     "name": "stdout",
     "output_type": "stream",
     "text": [
      "{'int_var': 10, 'float_var': 2.4, 'bool_var': True, 'list_var': [1, 2, 3], 'tuple_var': (10, 20, 30), 'set_var': {1, 3, 4}, 'dictionary_var': {'a': 1, 'b': 2}}\n",
      "<class 'dict'>\n"
     ]
    }
   ],
   "source": [
    "d3 = {\n",
    "    'int_var': 10,\n",
    "    'float_var': 2.4,\n",
    "    'bool_var': True,\n",
    "    'list_var': [1, 2, 3],\n",
    "    'tuple_var': (10, 20, 30),\n",
    "    'set_var': {1, 3, 4},\n",
    "    'dictionary_var': {'a': 1, 'b': 2},\n",
    "}\n",
    "print(d3)\n",
    "print(type(d3))"
   ]
  },
  {
   "cell_type": "code",
   "execution_count": 180,
   "metadata": {},
   "outputs": [
    {
     "name": "stdout",
     "output_type": "stream",
     "text": [
      "1\n",
      "1\n",
      "dict_keys(['a', 'b', 'c'])\n",
      "dict_values([10, 2, 3])\n",
      "dict_items([('a', 10), ('b', 2), ('c', 3)])\n",
      "Yes 'a' is present!\n"
     ]
    }
   ],
   "source": [
    "# Access items\n",
    "print(d1['a'])\n",
    "print(d1.get('a'))\n",
    "# Get all keys\n",
    "print(d1.keys())\n",
    "# Change value\n",
    "d1['a'] = 10\n",
    "# Get all values\n",
    "print(d1.values())\n",
    "# Get items\n",
    "# it returns tuple as (key, value)\n",
    "print(d1.items())\n",
    "# Check whether a key is present\n",
    "if 'a' in d1:\n",
    "    print(\"Yes 'a' is present!\")"
   ]
  },
  {
   "cell_type": "code",
   "execution_count": 191,
   "metadata": {},
   "outputs": [
    {
     "name": "stdout",
     "output_type": "stream",
     "text": [
      "{'a': 10, 'b': 2, 'c': 3}\n",
      "{'a': 100, 'b': 2, 'c': 3}\n"
     ]
    }
   ],
   "source": [
    "# Update items\n",
    "d1['a'] = 10\n",
    "print(d1)\n",
    "d1.update({'a': 100})\n",
    "print(d1)"
   ]
  },
  {
   "cell_type": "code",
   "execution_count": 197,
   "metadata": {},
   "outputs": [
    {
     "name": "stdout",
     "output_type": "stream",
     "text": [
      "{'a': 100, 'b': 2, 'd': 4}\n",
      "{'a': 100, 'b': 2, 'd': 4, 'e': 5}\n"
     ]
    }
   ],
   "source": [
    "# Add items\n",
    "d1['d'] = 4\n",
    "print(d1)\n",
    "d1.update({'e': 5})\n",
    "print(d1)"
   ]
  },
  {
   "cell_type": "code",
   "execution_count": 198,
   "metadata": {},
   "outputs": [
    {
     "name": "stdout",
     "output_type": "stream",
     "text": [
      "{'a': 100, 'b': 2, 'd': 4}\n",
      "{'a': 100, 'b': 2}\n",
      "{'a': 100}\n",
      "{}\n"
     ]
    }
   ],
   "source": [
    "# Remove items\n",
    "d1.pop('e')\n",
    "print(d1)\n",
    "del d1['d']\n",
    "# Key don't exist (KeyError exception)\n",
    "#d1.pop('z')\n",
    "print(d1)\n",
    "# Remove last item\n",
    "d1.popitem()\n",
    "print(d1)\n",
    "# 'Clear' will empty the dictionary\n",
    "temp = {'a': 1, 'b': 2}\n",
    "temp.clear()\n",
    "print(temp)"
   ]
  },
  {
   "cell_type": "code",
   "execution_count": 202,
   "metadata": {},
   "outputs": [
    {
     "name": "stdout",
     "output_type": "stream",
     "text": [
      "a b c d e \n",
      "a b c d e \n",
      "1 2 3 4 5 \n",
      "a 1, b 2, c 3, d 4, e 5, "
     ]
    }
   ],
   "source": [
    "# It will print only keys\n",
    "d1 = {'a': 1, 'b': 2, 'c': 3, 'd': 4, 'e': 5}\n",
    "for d in d1:\n",
    "    print(d, end=\" \")\n",
    "print(\"\")\n",
    "\n",
    "# It will also print keys\n",
    "for k in d1.keys():\n",
    "    print(k, end=' ')\n",
    "print(\"\")\n",
    "\n",
    "# It will print only values\n",
    "for v in d1.values():\n",
    "    print(v, end=\" \")\n",
    "print(\"\")\n",
    "\n",
    "# It will print key and value\n",
    "# as .items() return a list\n",
    "# of tuples as [(key, value), ....]\n",
    "for k, v in d1.items():\n",
    "    print(k, v, end=\", \")"
   ]
  },
  {
   "cell_type": "code",
   "execution_count": 203,
   "metadata": {},
   "outputs": [
    {
     "name": "stdout",
     "output_type": "stream",
     "text": [
      "{'a': 1, 'b': 2, 'c': 3, 'd': 4, 'e': 5}\n",
      "{'a': 10, 'b': 2, 'c': 3, 'd': 4, 'e': 5}\n",
      "{'a': 10, 'b': 2, 'c': 3, 'd': 4, 'e': 5}\n"
     ]
    }
   ],
   "source": [
    "# Copy dict\n",
    "d2 = d1.copy()\n",
    "d2['a'] = 10\n",
    "print(d1)\n",
    "print(d2)\n",
    "# Make a copy using dict\n",
    "d3 = dict(d2)\n",
    "print(d3)"
   ]
  },
  {
   "cell_type": "code",
   "execution_count": 210,
   "metadata": {},
   "outputs": [
    {
     "name": "stdout",
     "output_type": "stream",
     "text": [
      "{'a': 2, 'b': 2, 'c': 2, 'd': 2, 'e': 2, 'f': 2, 'g': 2}\n"
     ]
    }
   ],
   "source": [
    "# dict.fromkeys()\n",
    "# It will create dictionary\n",
    "# from and iterable\n",
    "l1 = [\n",
    "    'a', 'b', 'c',\n",
    "    'd', 'e', 'f',\n",
    "    'g',\n",
    "]\n",
    "# values is a single value\n",
    "# it can be some numeric value\n",
    "# or an list or any kinda object\n",
    "# that will be assigned to all keys.\n",
    "values = 2\n",
    "d4 = dict.fromkeys(l1, values)\n",
    "print(d4)"
   ]
  },
  {
   "cell_type": "code",
   "execution_count": 216,
   "metadata": {},
   "outputs": [
    {
     "name": "stdout",
     "output_type": "stream",
     "text": [
      "[('a', 'e'), ('b', 'f'), ('c', 'g'), ('d', 'h')]\n",
      "[('a', 1, 'e', 5), ('b', 2, 'f', 6), ('c', 3, 'g', 7), ('d', 4, 'h', 8)]\n"
     ]
    }
   ],
   "source": [
    "# zip, map, filter work same way as for lists..\n",
    "# Using zip\n",
    "d1 = {'a': 1, 'b': 2, 'c': 3, 'd': 4}\n",
    "d2 = {'e': 5, 'f': 6, 'g': 7, 'h': 8}\n",
    "c = list(zip(d1, d2))\n",
    "print(c)\n",
    "\n",
    "# zip, map, filter work same way as for lists..\n",
    "# Using zip\n",
    "d1 = {'a': 1, 'b': 2, 'c': 3, 'd': 4}\n",
    "d2 = {'e': 5, 'f': 6, 'g': 7, 'h': 8}\n",
    "c = list(zip(d1.keys(), d1.values(), d2.keys(), d2.values()))\n",
    "print(c)"
   ]
  },
  {
   "cell_type": "code",
   "execution_count": 230,
   "metadata": {},
   "outputs": [
    {
     "name": "stdout",
     "output_type": "stream",
     "text": [
      "{'d': 1, 'c': 2, 'b': 3, 'a': 4}\n"
     ]
    }
   ],
   "source": [
    "# How to sort a dictionary according \n",
    "# to its values?\n",
    "# Problem: dictionary don't provide\n",
    "# sort function.\n",
    "# Solution:\n",
    "d1 = {'a': 4, 'b': 3, 'c': 2, 'd': 1}\n",
    "d2 = {k: v for k, v in sorted(d1.items(), key=lambda t: t[1])}\n",
    "print(d2)"
   ]
  },
  {
   "cell_type": "code",
   "execution_count": 232,
   "metadata": {},
   "outputs": [
    {
     "name": "stdout",
     "output_type": "stream",
     "text": [
      "{'a': 4, 'b': 3}\n"
     ]
    }
   ],
   "source": [
    "# How to select top K from dictionary\n",
    "# based on values?\n",
    "# Problem: dictionary don't support\n",
    "# indexing.\n",
    "# Solution:\n",
    "K = 2\n",
    "d1 = {'a': 4, 'b': 3, 'c': 2, 'd': 1}\n",
    "d2 = {item[0]: item[1] for i, item in enumerate(d1.items()) if i < K}\n",
    "print(d2)"
   ]
  },
  {
   "cell_type": "markdown",
   "metadata": {},
   "source": [
    "## IF ELSE"
   ]
  },
  {
   "cell_type": "code",
   "execution_count": 247,
   "metadata": {},
   "outputs": [],
   "source": [
    "# Conditional Operators\n",
    "# 1- ==\n",
    "# 2- !=\n",
    "# 3- <\n",
    "# 4- >\n",
    "# 5- >=\n",
    "# 6- <="
   ]
  },
  {
   "cell_type": "code",
   "execution_count": 239,
   "metadata": {},
   "outputs": [
    {
     "name": "stdout",
     "output_type": "stream",
     "text": [
      "10\n"
     ]
    }
   ],
   "source": [
    "x = 10\n",
    "y = 20\n",
    "\n",
    "if x<12 and x%2==0:\n",
    "    print(x)\n",
    "elif x>12 or x%2!=0:\n",
    "    print(x-2)\n",
    "else:\n",
    "    print(\"Nothing here!\")"
   ]
  },
  {
   "cell_type": "code",
   "execution_count": 240,
   "metadata": {},
   "outputs": [
    {
     "name": "stdout",
     "output_type": "stream",
     "text": [
      "10\n"
     ]
    }
   ],
   "source": [
    "# Short-hand if else\n",
    "z = x if x < y else y\n",
    "print(z)"
   ]
  },
  {
   "cell_type": "markdown",
   "metadata": {},
   "source": [
    "## While Loop"
   ]
  },
  {
   "cell_type": "code",
   "execution_count": 241,
   "metadata": {},
   "outputs": [
    {
     "name": "stdout",
     "output_type": "stream",
     "text": [
      "0 1 2 3 4 5 6 7 8 9 "
     ]
    }
   ],
   "source": [
    "i = 0\n",
    "while i < 10:\n",
    "    print(i, end=' ')\n",
    "    i += 1"
   ]
  },
  {
   "cell_type": "code",
   "execution_count": 248,
   "metadata": {},
   "outputs": [
    {
     "name": "stdout",
     "output_type": "stream",
     "text": [
      "0 1 2 3 4 5 6 7 8 9 "
     ]
    }
   ],
   "source": [
    "i = 0\n",
    "# Continue will skip the remaining stmts\n",
    "# So place i += 1 carefully\n",
    "while i < 10:\n",
    "    if i < 5:\n",
    "        continue\n",
    "    print(i, end=' ')\n",
    "    i += 1"
   ]
  },
  {
   "cell_type": "code",
   "execution_count": 243,
   "metadata": {},
   "outputs": [
    {
     "name": "stdout",
     "output_type": "stream",
     "text": [
      "0 1 2 3 4 "
     ]
    }
   ],
   "source": [
    "i = 0\n",
    "# Continue will skip the remaining stmts\n",
    "# So place i += 1 carefully\n",
    "while i < 10:\n",
    "    if i == 5:\n",
    "        break\n",
    "    print(i, end=' ')\n",
    "    i += 1"
   ]
  },
  {
   "cell_type": "markdown",
   "metadata": {},
   "source": [
    "## For Looop"
   ]
  },
  {
   "cell_type": "code",
   "execution_count": 244,
   "metadata": {},
   "outputs": [
    {
     "name": "stdout",
     "output_type": "stream",
     "text": [
      "1 2 3 4 5 "
     ]
    }
   ],
   "source": [
    "l1 = [1, 2, 3, 4, 5]\n",
    "for e in l1:\n",
    "    print(e, end=' ')"
   ]
  },
  {
   "cell_type": "code",
   "execution_count": 245,
   "metadata": {},
   "outputs": [
    {
     "name": "stdout",
     "output_type": "stream",
     "text": [
      "10 20 30 40 50 "
     ]
    }
   ],
   "source": [
    "for e in [10, 20, 30, 40, 50]:\n",
    "    print(e, end=' ')"
   ]
  },
  {
   "cell_type": "code",
   "execution_count": 246,
   "metadata": {},
   "outputs": [
    {
     "name": "stdout",
     "output_type": "stream",
     "text": [
      "0 1 2 3 4 5 6 7 8 9 "
     ]
    }
   ],
   "source": [
    "for i in range(10):\n",
    "    print(i, end=' ')"
   ]
  },
  {
   "cell_type": "markdown",
   "metadata": {},
   "source": [
    "## Functions"
   ]
  },
  {
   "cell_type": "code",
   "execution_count": 249,
   "metadata": {},
   "outputs": [
    {
     "name": "stdout",
     "output_type": "stream",
     "text": [
      "param1: 10, param2: True, param3: Hello\n"
     ]
    }
   ],
   "source": [
    "# function with many parameters\n",
    "def func(param1, param2, param3):\n",
    "    print(f\"param1: {param1}, param2: {param2}, param3: {param3}\")\n",
    "\n",
    "func(10, True, \"Hello\")"
   ]
  },
  {
   "cell_type": "code",
   "execution_count": 253,
   "metadata": {},
   "outputs": [
    {
     "name": "stdout",
     "output_type": "stream",
     "text": [
      "param1: 200, param2: 10, param3: Hello, World!\n"
     ]
    }
   ],
   "source": [
    "# function parameters with datatype\n",
    "# whatever is passed, it doesn't matter\n",
    "# but it is just for readability\n",
    "def func(param1: bool, param2: int, param3: str) -> str:\n",
    "    return f\"param1: {param1}, param2: {param2}, param3: {param3}\"\n",
    "\n",
    "print(func(True, 10, 'Hello, World!'))"
   ]
  },
  {
   "cell_type": "code",
   "execution_count": 254,
   "metadata": {},
   "outputs": [
    {
     "name": "stdout",
     "output_type": "stream",
     "text": [
      "param1: True, param2: 10, param3: Hello, World!\n"
     ]
    }
   ],
   "source": [
    "# function paramters with default value\n",
    "def func(param1, param2, param3='Hello, World!'):\n",
    "    print(f\"param1: {param1}, param2: {param2}, param3: {param3}\")\n",
    "func(True, 10)"
   ]
  },
  {
   "cell_type": "code",
   "execution_count": 256,
   "metadata": {},
   "outputs": [
    {
     "name": "stdout",
     "output_type": "stream",
     "text": [
      "params: (10, 20, 30)\n"
     ]
    }
   ],
   "source": [
    "def func(*args):\n",
    "    # access values by index\n",
    "    print(f\"args: {args}\")\n",
    "func(10, 20, 30)"
   ]
  },
  {
   "cell_type": "code",
   "execution_count": 257,
   "metadata": {},
   "outputs": [
    {
     "name": "stdout",
     "output_type": "stream",
     "text": [
      "kwargs: {'param1': 10, 'param2': 20, 'param3': 30}\n"
     ]
    }
   ],
   "source": [
    "def func(**kwargs):\n",
    "    # access values by key\n",
    "    print(f\"kwargs: {kwargs}\")\n",
    "func(param1=10, param2=20, param3=30)"
   ]
  },
  {
   "cell_type": "markdown",
   "metadata": {},
   "source": [
    "## Lambda"
   ]
  },
  {
   "cell_type": "code",
   "execution_count": 260,
   "metadata": {},
   "outputs": [
    {
     "name": "stdout",
     "output_type": "stream",
     "text": [
      "60\n"
     ]
    }
   ],
   "source": [
    "# Lambda functions must not be assigned\n",
    "# to variable as that is against the\n",
    "# pep-8 conventions\n",
    "f = lambda x, y, z: x + y + z\n",
    "print(f(10, 20, 30))"
   ]
  },
  {
   "cell_type": "code",
   "execution_count": 261,
   "metadata": {},
   "outputs": [
    {
     "name": "stdout",
     "output_type": "stream",
     "text": [
      "30\n"
     ]
    }
   ],
   "source": [
    "def get_func():\n",
    "    return lambda x, y: x + y\n",
    "f = get_func()\n",
    "print(f(10, 20))"
   ]
  },
  {
   "cell_type": "markdown",
   "metadata": {},
   "source": [
    "## Classes"
   ]
  },
  {
   "cell_type": "code",
   "execution_count": 268,
   "metadata": {},
   "outputs": [
    {
     "name": "stdout",
     "output_type": "stream",
     "text": [
      "name: Ali, age: 22\n"
     ]
    }
   ],
   "source": [
    "# Defining a class\n",
    "# Instead of 'self', anything else can\n",
    "# also be passed like 'myself'\n",
    "class Person:\n",
    "    \n",
    "    def __init__(self, name, age):\n",
    "        self.name = name\n",
    "        self.age = age\n",
    "    \n",
    "    def get_data(self):\n",
    "        return f\"name: {self.name}, age: {self.age}\"\n",
    "    \n",
    "p = Person(\"Ali\", 22)\n",
    "print(p.get_data())"
   ]
  },
  {
   "cell_type": "code",
   "execution_count": 269,
   "metadata": {},
   "outputs": [
    {
     "name": "stdout",
     "output_type": "stream",
     "text": [
      "name: Ali\n"
     ]
    }
   ],
   "source": [
    "# Access attributes\n",
    "print(f\"name: {p.name}\")\n",
    "del p.name\n",
    "# p.name don't exist\n",
    "#print(f\"name: {p.name}\")"
   ]
  },
  {
   "cell_type": "markdown",
   "metadata": {},
   "source": [
    "## Inheritance"
   ]
  },
  {
   "cell_type": "code",
   "execution_count": 271,
   "metadata": {},
   "outputs": [
    {
     "name": "stdout",
     "output_type": "stream",
     "text": [
      "name: Ali, age: 24, roll number: 32\n"
     ]
    }
   ],
   "source": [
    "# Inheritance\n",
    "class Student(Person):\n",
    "    \n",
    "    def __init__(self, name, age, roll_num):\n",
    "        super().__init__(name, age)\n",
    "        self.roll_num = roll_num\n",
    "    \n",
    "    # Overriding the method\n",
    "    def get_data(self):\n",
    "        return f\"name: {self.name}, age: {self.age}, roll number: {self.roll_num}\"\n",
    "    \n",
    "s = Student(\"Ali\", 24, 32)\n",
    "print(s.get_data())"
   ]
  },
  {
   "cell_type": "markdown",
   "metadata": {},
   "source": [
    "## Iterators"
   ]
  },
  {
   "cell_type": "code",
   "execution_count": 272,
   "metadata": {},
   "outputs": [],
   "source": [
    "l1 = [1, 2, 3, 4, 5]\n",
    "t1 = (1, 2, 3, 4, 5)\n",
    "s1 = {1, 2, 3, 4, 5}\n",
    "d1 = {'a': 1, 'b': 2, 'c': 3, 'd': 4, 'e': 5}"
   ]
  },
  {
   "cell_type": "code",
   "execution_count": 273,
   "metadata": {},
   "outputs": [
    {
     "data": {
      "text/plain": [
       "1"
      ]
     },
     "execution_count": 273,
     "metadata": {},
     "output_type": "execute_result"
    }
   ],
   "source": [
    "# list iterator\n",
    "l1_it = iter(l1)\n",
    "next(l1_it)"
   ]
  },
  {
   "cell_type": "code",
   "execution_count": 274,
   "metadata": {},
   "outputs": [
    {
     "data": {
      "text/plain": [
       "1"
      ]
     },
     "execution_count": 274,
     "metadata": {},
     "output_type": "execute_result"
    }
   ],
   "source": [
    "# tuple iterator\n",
    "t1_it = iter(t1)\n",
    "next(t1_it)"
   ]
  },
  {
   "cell_type": "code",
   "execution_count": 275,
   "metadata": {},
   "outputs": [
    {
     "data": {
      "text/plain": [
       "1"
      ]
     },
     "execution_count": 275,
     "metadata": {},
     "output_type": "execute_result"
    }
   ],
   "source": [
    "# set iterator\n",
    "s1_it = iter(s1)\n",
    "next(s1_it)"
   ]
  },
  {
   "cell_type": "code",
   "execution_count": 278,
   "metadata": {},
   "outputs": [
    {
     "data": {
      "text/plain": [
       "('a', 1)"
      ]
     },
     "execution_count": 278,
     "metadata": {},
     "output_type": "execute_result"
    }
   ],
   "source": [
    "# dictionary iterator\n",
    "# In case of dictionary it will return\n",
    "# only key\n",
    "d1_it = iter(d1)\n",
    "next(d1_it)\n",
    "# Use dict.items() to access values too\n",
    "d1_it = iter(d1.items())\n",
    "next(d1_it)"
   ]
  },
  {
   "cell_type": "code",
   "execution_count": 284,
   "metadata": {},
   "outputs": [
    {
     "name": "stdout",
     "output_type": "stream",
     "text": [
      "0\n",
      "1\n",
      "2\n"
     ]
    }
   ],
   "source": [
    "# Defining custom iterator\n",
    "class CustomIterator:\n",
    "    \n",
    "    def __init__(self, size=5):\n",
    "        self.arr = list(range(size))\n",
    "    \n",
    "    def __iter__(self):\n",
    "        self.index = 0\n",
    "        # Do remember returning self\n",
    "        return self\n",
    "        \n",
    "    def __next__(self):\n",
    "        if self.index < len(self.arr):\n",
    "            temp = self.arr[self.index]\n",
    "            self.index += 1\n",
    "            return temp\n",
    "        else:\n",
    "            raise StopIteration\n",
    "\n",
    "ci = CustomIterator(size=3)\n",
    "ci_it = iter(ci)\n",
    "print(next(ci_it))\n",
    "print(next(ci_it))\n",
    "print(next(ci_it))\n",
    "#print(next(ci_it))"
   ]
  },
  {
   "cell_type": "markdown",
   "metadata": {},
   "source": [
    "## Try Except\n",
    "Built-in Exception: https://www.w3schools.com/python/python_ref_exceptions.asp"
   ]
  },
  {
   "cell_type": "code",
   "execution_count": 286,
   "metadata": {},
   "outputs": [
    {
     "name": "stdout",
     "output_type": "stream",
     "text": [
      "Noway\n",
      "All was good!\n",
      "Finishing the section!\n"
     ]
    }
   ],
   "source": [
    "# Exception handling\n",
    "noway = 'Noway'\n",
    "\n",
    "try:\n",
    "    print(noway)\n",
    "except NameError:\n",
    "    print(\"Variable not defined.\")\n",
    "except KeyboardInterrupt:\n",
    "    print(\"Kyeboard Interrupt occurred.\")\n",
    "else:\n",
    "    # in case no exception occurred\n",
    "    print(\"All was good!\")\n",
    "finally:\n",
    "    # in case exception occurred or not\n",
    "    # it will execute\n",
    "    print(\"Finishing the section!\")"
   ]
  },
  {
   "cell_type": "code",
   "execution_count": 289,
   "metadata": {},
   "outputs": [
    {
     "ename": "ZeroDivisionError",
     "evalue": "",
     "output_type": "error",
     "traceback": [
      "\u001b[0;31m---------------------------------------------------------------------------\u001b[0m",
      "\u001b[0;31mZeroDivisionError\u001b[0m                         Traceback (most recent call last)",
      "\u001b[0;32m<ipython-input-289-114bddb0f001>\u001b[0m in \u001b[0;36m<module>\u001b[0;34m\u001b[0m\n\u001b[1;32m      7\u001b[0m     \u001b[0;32mreturn\u001b[0m \u001b[0mparam1\u001b[0m\u001b[0;34m/\u001b[0m\u001b[0mparam2\u001b[0m\u001b[0;34m\u001b[0m\u001b[0;34m\u001b[0m\u001b[0m\n\u001b[1;32m      8\u001b[0m \u001b[0;34m\u001b[0m\u001b[0m\n\u001b[0;32m----> 9\u001b[0;31m \u001b[0mdivide\u001b[0m\u001b[0;34m(\u001b[0m\u001b[0;36m10\u001b[0m\u001b[0;34m,\u001b[0m \u001b[0;36m0\u001b[0m\u001b[0;34m)\u001b[0m\u001b[0;34m\u001b[0m\u001b[0;34m\u001b[0m\u001b[0m\n\u001b[0m",
      "\u001b[0;32m<ipython-input-289-114bddb0f001>\u001b[0m in \u001b[0;36mdivide\u001b[0;34m(param1, param2)\u001b[0m\n\u001b[1;32m      2\u001b[0m \u001b[0;32mdef\u001b[0m \u001b[0mdivide\u001b[0m\u001b[0;34m(\u001b[0m\u001b[0mparam1\u001b[0m\u001b[0;34m,\u001b[0m \u001b[0mparam2\u001b[0m\u001b[0;34m)\u001b[0m\u001b[0;34m:\u001b[0m\u001b[0;34m\u001b[0m\u001b[0;34m\u001b[0m\u001b[0m\n\u001b[1;32m      3\u001b[0m     \u001b[0;32mif\u001b[0m \u001b[0mparam2\u001b[0m \u001b[0;34m==\u001b[0m \u001b[0;36m0\u001b[0m\u001b[0;34m:\u001b[0m\u001b[0;34m\u001b[0m\u001b[0;34m\u001b[0m\u001b[0m\n\u001b[0;32m----> 4\u001b[0;31m         \u001b[0;32mraise\u001b[0m \u001b[0mZeroDivisionError\u001b[0m\u001b[0;34m\u001b[0m\u001b[0;34m\u001b[0m\u001b[0m\n\u001b[0m\u001b[1;32m      5\u001b[0m         \u001b[0;31m# raise ZeroDivisionError(\"param2 is zero!\")\u001b[0m\u001b[0;34m\u001b[0m\u001b[0;34m\u001b[0m\u001b[0;34m\u001b[0m\u001b[0m\n\u001b[1;32m      6\u001b[0m         \u001b[0;31m# raise Exception(\"param2 is zero!\")\u001b[0m\u001b[0;34m\u001b[0m\u001b[0;34m\u001b[0m\u001b[0;34m\u001b[0m\u001b[0m\n",
      "\u001b[0;31mZeroDivisionError\u001b[0m: "
     ]
    }
   ],
   "source": [
    "# Raise an exception\n",
    "def divide(param1, param2):\n",
    "    if param2 == 0:\n",
    "        raise ZeroDivisionError\n",
    "        # raise ZeroDivisionError(\"param2 is zero!\")\n",
    "        # raise Exception(\"param2 is zero!\")\n",
    "    return param1/param2\n",
    "\n",
    "divide(10, 0)"
   ]
  },
  {
   "cell_type": "markdown",
   "metadata": {},
   "source": [
    "## Scope"
   ]
  },
  {
   "cell_type": "code",
   "execution_count": 291,
   "metadata": {},
   "outputs": [
    {
     "name": "stdout",
     "output_type": "stream",
     "text": [
      "10\n"
     ]
    },
    {
     "ename": "NameError",
     "evalue": "name 'x12' is not defined",
     "output_type": "error",
     "traceback": [
      "\u001b[0;31m---------------------------------------------------------------------------\u001b[0m",
      "\u001b[0;31mNameError\u001b[0m                                 Traceback (most recent call last)",
      "\u001b[0;32m<ipython-input-291-fd71162a11d3>\u001b[0m in \u001b[0;36m<module>\u001b[0;34m\u001b[0m\n\u001b[1;32m      3\u001b[0m     \u001b[0mprint\u001b[0m\u001b[0;34m(\u001b[0m\u001b[0mx\u001b[0m\u001b[0;34m)\u001b[0m\u001b[0;34m\u001b[0m\u001b[0;34m\u001b[0m\u001b[0m\n\u001b[1;32m      4\u001b[0m \u001b[0mfunc\u001b[0m\u001b[0;34m(\u001b[0m\u001b[0;34m)\u001b[0m\u001b[0;34m\u001b[0m\u001b[0;34m\u001b[0m\u001b[0m\n\u001b[0;32m----> 5\u001b[0;31m \u001b[0mprint\u001b[0m\u001b[0;34m(\u001b[0m\u001b[0mx12\u001b[0m\u001b[0;34m)\u001b[0m\u001b[0;34m\u001b[0m\u001b[0;34m\u001b[0m\u001b[0m\n\u001b[0m",
      "\u001b[0;31mNameError\u001b[0m: name 'x12' is not defined"
     ]
    }
   ],
   "source": [
    "def func():\n",
    "    x12 = 20\n",
    "    print(x)\n",
    "func()\n",
    "\n",
    "# x12 is not defined outside\n",
    "print(x12)"
   ]
  },
  {
   "cell_type": "code",
   "execution_count": 293,
   "metadata": {},
   "outputs": [
    {
     "name": "stdout",
     "output_type": "stream",
     "text": [
      "20\n",
      "20\n"
     ]
    }
   ],
   "source": [
    "def func():\n",
    "    x = 20\n",
    "    def nested_func():\n",
    "        # local variable defined inside the parent\n",
    "        # function will also be accessibe inside the\n",
    "        # child function.\n",
    "        print(x)\n",
    "    nested_func()\n",
    "    print(x)\n",
    "func()"
   ]
  },
  {
   "cell_type": "code",
   "execution_count": 294,
   "metadata": {},
   "outputs": [
    {
     "name": "stdout",
     "output_type": "stream",
     "text": [
      "100\n"
     ]
    }
   ],
   "source": [
    "# Defining local variable inside the\n",
    "# function using 'global' keyword\n",
    "# to make it accessible outsidet the\n",
    "# function\n",
    "def func():\n",
    "    global alpha\n",
    "    alpha = 100\n",
    "func()\n",
    "print(alpha)"
   ]
  },
  {
   "cell_type": "markdown",
   "metadata": {},
   "source": [
    "## With Statement"
   ]
  },
  {
   "cell_type": "markdown",
   "metadata": {},
   "source": [
    "#### Details\n",
    "Link: https://www.geeksforgeeks.org/with-statement-in-python/"
   ]
  },
  {
   "cell_type": "code",
   "execution_count": 295,
   "metadata": {},
   "outputs": [],
   "source": [
    "# With statement helps to avoid resource\n",
    "# leaks by automatically clearing the\n",
    "# memory and destroying objects\n",
    "# For example, using with statement will help\n",
    "# us allow not to close the file explicityly\n",
    "with open('alpha.txt', 'w') as file:\n",
    "    file.write(\"Some text is written in alpha!\")"
   ]
  },
  {
   "cell_type": "code",
   "execution_count": 301,
   "metadata": {},
   "outputs": [],
   "source": [
    "# Support 'with' for custom objects\n",
    "class CustomFileWriter:\n",
    "    \n",
    "    def __init__(self, file_name):\n",
    "        self.file_name = file_name\n",
    "        \n",
    "    def __enter__(self):\n",
    "        self.file = open(self.file_name, 'w')\n",
    "        # Must return resource discriptor\n",
    "        # Here it is the 'self.file' reference\n",
    "        return self.file\n",
    "    \n",
    "    def __exit__(self, type, value, traceback):\n",
    "        self.file.close()\n",
    "        \n",
    "with CustomFileWriter('alpha.txt') as file:\n",
    "    file.write(\"Some text written using CustomFileWriter!\")"
   ]
  },
  {
   "cell_type": "code",
   "execution_count": 305,
   "metadata": {},
   "outputs": [],
   "source": [
    "# Using contextmanager\n",
    "from contextlib import contextmanager\n",
    "\n",
    "class ContextManagerFileWriter:\n",
    "    \n",
    "    def __init__(self, file_name):\n",
    "        self.file_name = file_name\n",
    "     \n",
    "    # It is very convenient as it can be\n",
    "    # used with normal classes..\n",
    "    @contextmanager\n",
    "    def open_file(self, mode='w'):\n",
    "        try:\n",
    "            file = open(self.file_name, mode)\n",
    "            # Here, 'yield' and don't 'return'\n",
    "            # As the function will restart from\n",
    "            # here after the code inside the 'with'\n",
    "            # block\n",
    "            yield file\n",
    "        finally:\n",
    "            file.close()\n",
    "\n",
    "\n",
    "with ContextManagerFileWriter(file_name='alpha.txt').open_file(mode='w') as file:\n",
    "    file.write(\"Text written using ContextManagerFileWriter!\")"
   ]
  },
  {
   "cell_type": "markdown",
   "metadata": {},
   "source": [
    "## Built-in Functions"
   ]
  },
  {
   "cell_type": "code",
   "execution_count": 335,
   "metadata": {},
   "outputs": [
    {
     "name": "stdout",
     "output_type": "stream",
     "text": [
      "1.0\n",
      "True\n",
      "True\n",
      "0b100\n",
      "True\n",
      "True\n",
      "['__class__', '__delattr__', '__dict__', '__dir__', '__doc__', '__eq__', '__format__', '__ge__', '__getattribute__', '__gt__', '__hash__', '__init__', '__init_subclass__', '__le__', '__lt__', '__module__', '__ne__', '__new__', '__reduce__', '__reduce_ex__', '__repr__', '__setattr__', '__sizeof__', '__str__', '__subclasshook__', '__weakref__', 'open_file']\n",
      "(4, 1)\n",
      "Printed by eval()\n",
      "\n",
      "alpha.txt\n"
     ]
    }
   ],
   "source": [
    "# get absolute value (only positive values)\n",
    "print(abs(-1.0))\n",
    "# True if all True\n",
    "print(all([True, True, True]))\n",
    "# True if any True\n",
    "print(any([True, False, True]))\n",
    "# get binary\n",
    "print(bin(4))\n",
    "# convert to bool\n",
    "print(bool(1))\n",
    "# check wether some identifier is callable\n",
    "# it means that is function or not\n",
    "print(callable(func))\n",
    "# convert to dict\n",
    "# dict()\n",
    "# dir() returns all methods of a class\n",
    "print(dir(ContextManagerFileWriter))\n",
    "# divmod() returns (dividened, remainder)\n",
    "print(divmod(9, 2))\n",
    "# enumerate\n",
    "# eval() evaluates an expression\n",
    "eval('print(\"Printed by eval()\")')\n",
    "# filter() filters the iterable\n",
    "# float() converts to float\n",
    "# getattr(class_name, property_name)\n",
    "# hasattr(class_name, property_name)\n",
    "# help()\n",
    "# hex() converts a integer to hexadecimal\n",
    "# id()\n",
    "# input()\n",
    "# int()\n",
    "# isinstance()\n",
    "# issubclass()\n",
    "# iter()\n",
    "# len()\n",
    "# list()\n",
    "# locals() : it returns local symbol table\n",
    "# e.g: __init__, __exit__, __enter__, __doc__, __main__\n",
    "# map()\n",
    "# max() : finds max from an iterable\n",
    "# next()\n",
    "# oct() : converts to octal\n",
    "# pow(): pow(x, y)\n",
    "# range()\n",
    "# reversed()\n",
    "# round(): round to base(floor)\n",
    "# set()\n",
    "# sorted()\n",
    "# slice()\n",
    "# sum(): sum an iterable\n",
    "# tuple()\n",
    "# type()\n",
    "# zip()\n",
    "# vars(): returns class properties as dictionary\n",
    "print(\"\")\n",
    "print(vars(ContextManagerFileWriter(file_name='alpha.txt'))['file_name'])"
   ]
  },
  {
   "cell_type": "markdown",
   "metadata": {},
   "source": [
    "### Python Speed-up techniques\n",
    "\n",
    "- https://www.loginradius.com/blog/async/speed-up-python-code/\n",
    "- https://www.monitis.com/blog/7-ways-to-improve-your-python-performance/\n",
    "- https://pybit.es/faster-python.html\n",
    "\n",
    "### Python Code Quality\n",
    "\n",
    "- [Python Code Quality](https://realpython.com/python-code-quality/)\n",
    "- [PEP8 realpython](https://realpython.com/python-pep8/)\n",
    "- [PEP8 Python Official](https://www.python.org/dev/peps/pep-0008/)\n",
    "- [Black Autoformatter](https://www.freecodecamp.org/news/auto-format-your-python-code-with-black/)"
   ]
  },
  {
   "cell_type": "code",
   "execution_count": null,
   "metadata": {},
   "outputs": [],
   "source": []
  }
 ],
 "metadata": {
  "kernelspec": {
   "display_name": "Python 3",
   "language": "python",
   "name": "python3"
  },
  "language_info": {
   "codemirror_mode": {
    "name": "ipython",
    "version": 3
   },
   "file_extension": ".py",
   "mimetype": "text/x-python",
   "name": "python",
   "nbconvert_exporter": "python",
   "pygments_lexer": "ipython3",
   "version": "3.7.6"
  }
 },
 "nbformat": 4,
 "nbformat_minor": 4
}
